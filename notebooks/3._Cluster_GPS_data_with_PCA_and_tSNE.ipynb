{
 "cells": [
  {
   "cell_type": "markdown",
   "metadata": {
    "deletable": true,
    "editable": true
   },
   "source": [
    "# Welcome\n",
    "Welcome to clustering GPS data using visualization techniques.\n",
    "Robert de Munter, Ahmet Taspinar and Rob Romijnders collaborated to make this repo.\n",
    "\n",
    "## Goal\n",
    "\n",
    "  * We aim to visualize and understand messy data such as GPS trajectories. The data consist of 18000 trajectories in GPS coordinates. Somehow we need insight into this data\n",
    "  * As a second goal, we aim to understand dimensionality reduction. Techniques such as PCA and tSNE allow for 2D visualizations of high dimensional data.\n",
    "  \n",
    "## Target\n",
    "We assume little knowledge of ML or Python in this notebook. Coding challenges require maximum two lines of code. Theoretical questions require insight, no mathematics. If you already know PCA/tSNE, then you could better join another group. If data excites you and you want to learn visualization techniques, then this is the ideal notebook for you!\n",
    "  \n",
    "## Approach\n",
    "\n",
    "  * __First__ take time to read the different functions. Run the standard implementations and discuss with groupmates what you see/expect.\n",
    "  * __Second__ we have some assignments to challenge your understanding. \n",
    "\n",
    "## Assignments\n",
    "\n",
    "  * Discuss with your group the differences between PCA and tSNE: \n",
    "    * What do they do? \n",
    "    * When to choose one over the other?\n",
    "  * Look at the PCA plots: \n",
    "    * What insight do you gain on the data?\n",
    "  * Consider the code for PCA. Explain to your groupmates how it works: \n",
    "    * What does the abbreviation _SVD_ mean? \n",
    "    * Why are we using SVD? (bonus question: and why truncated SVD?)\n",
    "  * Look at the tSNE plots: \n",
    "    * What insight do you gain on the data?\n",
    "  * Consider the code for tSNE. Explain to your groupmates how it works: \n",
    "    * What does the _perplexity_ parameter do?\n",
    "    * Bonus question: why do we define the _gradient norm_ and _number of iterations_?\n",
    "  * Coding challenge\n",
    "    * Pick either tSNE or PCA and improve the plot: what story does the data tell you? how can you clarify the story?\n",
    "    * Tune the hyperparameters of the techniques. For PCA, play with plotting different _principal components_. For tSNE play with the _perplexity_ and _angle_."
   ]
  },
  {
   "cell_type": "markdown",
   "metadata": {},
   "source": [
    "[data here](https://www.dropbox.com/s/xm5vtriolvmnw4h/03_cluster_data.tar.gz?dl=0) or [here](https://www.dropbox.com/s/p1gdt070a6hl67u/03_cluster_data.zip?dl=0)"
   ]
  },
  {
   "cell_type": "markdown",
   "metadata": {
    "deletable": true,
    "editable": true
   },
   "source": [
    "### Import libraries and define some globally useful parameters"
   ]
  },
  {
   "cell_type": "code",
   "execution_count": 7,
   "metadata": {
    "collapsed": false,
    "deletable": true,
    "editable": true
   },
   "outputs": [
    {
     "ename": "ImportError",
     "evalue": "No module named 'util_cluster'",
     "traceback": [
      "\u001b[1;31m---------------------------------------------------------------------------\u001b[0m",
      "\u001b[1;31mImportError\u001b[0m                               Traceback (most recent call last)",
      "\u001b[1;32m<ipython-input-7-c3825de60194>\u001b[0m in \u001b[0;36m<module>\u001b[1;34m()\u001b[0m\n\u001b[0;32m      6\u001b[0m \u001b[1;32mimport\u001b[0m \u001b[0mmatplotlib\u001b[0m\u001b[1;33m.\u001b[0m\u001b[0mpyplot\u001b[0m \u001b[1;32mas\u001b[0m \u001b[0mplt\u001b[0m\u001b[1;33m\u001b[0m\u001b[0m\n\u001b[0;32m      7\u001b[0m \u001b[1;32mfrom\u001b[0m \u001b[0mscipy\u001b[0m\u001b[1;33m.\u001b[0m\u001b[0mstats\u001b[0m \u001b[1;32mimport\u001b[0m \u001b[0mzscore\u001b[0m\u001b[1;33m\u001b[0m\u001b[0m\n\u001b[1;32m----> 8\u001b[1;33m \u001b[1;32mfrom\u001b[0m \u001b[0mutil_cluster\u001b[0m \u001b[1;32mimport\u001b[0m \u001b[0msome_cluster\u001b[0m\u001b[1;33m\u001b[0m\u001b[0m\n\u001b[0m\u001b[0;32m      9\u001b[0m \u001b[1;32mimport\u001b[0m \u001b[0mglob\u001b[0m\u001b[1;33m\u001b[0m\u001b[0m\n\u001b[0;32m     10\u001b[0m \u001b[1;32mimport\u001b[0m \u001b[0mpandas\u001b[0m \u001b[1;32mas\u001b[0m \u001b[0mpd\u001b[0m\u001b[1;33m\u001b[0m\u001b[0m\n",
      "\u001b[1;31mImportError\u001b[0m: No module named 'util_cluster'"
     ],
     "output_type": "error"
    }
   ],
   "source": [
    "import sys\n",
    "sys.path.append('../cluster')\n",
    "import numpy as np\n",
    "from sklearn.manifold import TSNE\n",
    "from sklearn.decomposition import TruncatedSVD\n",
    "import matplotlib.pyplot as plt\n",
    "from scipy.stats import zscore\n",
    "from util_cluster import some_cluster\n",
    "import glob\n",
    "import pandas as pd\n",
    "from collections import OrderedDict\n",
    "\n",
    "INPUT_FOLDER = '../processed_data/'\n",
    "IM_FOLDER = '../cluster/im/'\n",
    "HOT = OrderedDict()\n",
    "HOT['walk']= np.array([1, 0, 0, 0, 0, 0])\n",
    "HOT['train']= np.array([0, 1, 0, 0, 0, 0])\n",
    "HOT['subway']= np.array([0, 0, 1, 0, 0, 0])\n",
    "HOT['taxi']= np.array([0, 0, 0, 1, 0, 0])\n",
    "HOT['bus']= np.array([0, 0, 0, 0, 1, 0])\n",
    "HOT['bike']= np.array([0, 0, 0, 0, 0, 1])\n",
    "HOT['UNK']= np.array([0, 0, 0, 0, 0, 0])\n",
    "\n",
    "\n",
    "colors = ['r', 'g', 'b', 'y', 'm', 'c', 'k']\n",
    "lbl_clr = zip(HOT.keys(), colors)\n",
    "title = ''\n",
    "for lbl, clr in lbl_clr:\n",
    "    title += lbl + '=' +clr + ','\n",
    "print(title[:-1])"
   ]
  },
  {
   "cell_type": "markdown",
   "metadata": {
    "deletable": true,
    "editable": true
   },
   "source": [
    "### Functions to munge the data\n"
   ]
  },
  {
   "cell_type": "code",
   "execution_count": 8,
   "metadata": {
    "collapsed": true,
    "deletable": true,
    "editable": true
   },
   "outputs": [],
   "source": [
    "def munge():\n",
    "    def clean_label(label):\n",
    "        # Pandas treats NaN's as floats. So in the next line we, effectively, check for NaN\n",
    "        if not isinstance(label,float):\n",
    "          return label.lstrip(',').rstrip(',').replace(',,', ',')\n",
    "\n",
    "\n",
    "    headers_metadf = ['trajectory_id', 'start_time', 'end_time', 'v_ave', 'v_med', 'v_max', 'v_std', 'a_ave', 'a_med', 'a_max',\n",
    "                      'a_std','labels']\n",
    "\n",
    "    list_df_metadata = []\n",
    "\n",
    "    for file in glob.glob(INPUT_FOLDER + \"*_metadata.csv\"):\n",
    "        df_metadata = pd.read_csv(file, index_col=0)\n",
    "        list_df_metadata.append(df_metadata)\n",
    "\n",
    "    \n",
    "    df_metadata = pd.concat(list_df_metadata).dropna(subset=['v_ave', 'v_med', 'v_max', 'v_std', 'a_ave', 'a_med', 'a_max','a_std'])\n",
    "    \n",
    "    X = df_metadata.as_matrix(['v_ave', 'v_med', 'v_max', 'v_std', 'a_ave', 'a_med', 'a_max','a_std'])\n",
    "    y = df_metadata['labels'].values\n",
    "\n",
    "    N = X.shape[0]   #行数\n",
    "    D = 6            #列数\n",
    "\n",
    "    # Rewrite the label strings to hot-vectors\n",
    "    # Note that labels are not mutually exclusive!\n",
    "    Y = np.zeros((N,D),dtype=np.int16)                     #？？？？？？？？？？？？？？？？？？？？？？？？？？\n",
    "    for iy in range(N):\n",
    "        lbl = y[iy]\n",
    "        # Pandas treats NaN's as floats. So in the next line we, effectively, check for NaN\n",
    "        if not isinstance(lbl, float):\n",
    "            for key, value in HOT.items():\n",
    "                if key in lbl:\n",
    "                    Y[iy] += value\n",
    "    return X,Y"
   ]
  },
  {
   "cell_type": "markdown",
   "metadata": {
    "deletable": true,
    "editable": true
   },
   "source": [
    "### Functions to preprocess data\n"
   ]
  },
  {
   "cell_type": "code",
   "execution_count": 9,
   "metadata": {
    "collapsed": true,
    "deletable": true,
    "editable": true
   },
   "outputs": [],
   "source": [
    "def remove_outliers(X,y):\n",
    "    \"\"\"Start on visualization.\n",
    "    Remove all data outside (MAX_STD) standard deviations\"\"\"\n",
    "    MAX_STD = 2.0\n",
    "    mean = np.mean(X, 0)\n",
    "    std = np.std(X, 0)\n",
    "    mask = []\n",
    "    for i, x in enumerate(X):\n",
    "        if np.isnan(np.sum(x)):\n",
    "            continue\n",
    "        elif np.any(np.abs((x - mean) / std) > MAX_STD):\n",
    "            continue\n",
    "        else:\n",
    "            mask.append(i)\n",
    "    X = X[mask]\n",
    "    y = y[mask]\n",
    "    X = zscore(X)\n",
    "    return X,y"
   ]
  },
  {
   "cell_type": "markdown",
   "metadata": {
    "deletable": true,
    "editable": true
   },
   "source": [
    "### The working horses: PCA and tSNE"
   ]
  },
  {
   "cell_type": "code",
   "execution_count": 10,
   "metadata": {
    "collapsed": true,
    "deletable": true,
    "editable": true
   },
   "outputs": [],
   "source": [
    ""
   ]
  },
  {
   "cell_type": "code",
   "execution_count": 10,
   "metadata": {
    "collapsed": true,
    "deletable": true,
    "editable": true
   },
   "outputs": [],
   "source": [
    "def PCA(X,y):\n",
    "    \"\"\"PCA\"\"\"\n",
    "    PCA_model = TruncatedSVD(n_components=2)\n",
    "    reduced = PCA_model.fit_transform(X)\n",
    "    return reduced,y\n",
    "\n",
    "def tSNE(X,y,perp=30):\n",
    "    \"\"\"Subsample to prevent memory error\n",
    "    - perp: the perplexity for the tSNE algo\"\"\"\n",
    "    N = X.shape[0]\n",
    "    ind = np.random.choice(N,10000)\n",
    "    X = X[ind]\n",
    "    y = y[ind]\n",
    "\n",
    "    tSNE_model = TSNE(verbose=2,perplexity=perp,min_grad_norm=1E-07,n_iter=300,angle=0.6)\n",
    "    reduced_tsne = tSNE_model.fit_transform(X)\n",
    "    return reduced_tsne,y"
   ]
  },
  {
   "cell_type": "markdown",
   "metadata": {
    "deletable": true,
    "editable": true
   },
   "source": [
    "### Our cockpit\n",
    "Here we load the data and preprocess.\n",
    "Next we run the algorithms and plot"
   ]
  },
  {
   "cell_type": "code",
   "execution_count": 11,
   "metadata": {
    "collapsed": true,
    "deletable": true,
    "editable": true
   },
   "outputs": [
    {
     "name": "stdout",
     "output_type": "stream",
     "text": [
      "----Munge the data----\n"
     ]
    },
    {
     "ename": "NameError",
     "evalue": "name 'glob' is not defined",
     "traceback": [
      "\u001b[1;31m---------------------------------------------------------------------------\u001b[0m",
      "\u001b[1;31mNameError\u001b[0m                                 Traceback (most recent call last)",
      "\u001b[1;32m<ipython-input-11-eaf7d8001538>\u001b[0m in \u001b[0;36m<module>\u001b[1;34m()\u001b[0m\n\u001b[0;32m      1\u001b[0m \u001b[0mprint\u001b[0m\u001b[1;33m(\u001b[0m\u001b[1;34m'----Munge the data----'\u001b[0m\u001b[1;33m)\u001b[0m\u001b[1;33m\u001b[0m\u001b[0m\n\u001b[1;32m----> 2\u001b[1;33m \u001b[0mX\u001b[0m\u001b[1;33m,\u001b[0m \u001b[0my\u001b[0m \u001b[1;33m=\u001b[0m \u001b[0mmunge\u001b[0m\u001b[1;33m(\u001b[0m\u001b[1;33m)\u001b[0m\u001b[1;33m\u001b[0m\u001b[0m\n\u001b[0m\u001b[0;32m      3\u001b[0m \u001b[0mX\u001b[0m\u001b[1;33m,\u001b[0m\u001b[0my\u001b[0m \u001b[1;33m=\u001b[0m \u001b[0mremove_outliers\u001b[0m\u001b[1;33m(\u001b[0m\u001b[0mX\u001b[0m\u001b[1;33m,\u001b[0m\u001b[0my\u001b[0m\u001b[1;33m)\u001b[0m\u001b[1;33m\u001b[0m\u001b[0m\n\u001b[0;32m      4\u001b[0m \u001b[0mN\u001b[0m\u001b[1;33m,\u001b[0m\u001b[0mD\u001b[0m \u001b[1;33m=\u001b[0m \u001b[0my\u001b[0m\u001b[1;33m.\u001b[0m\u001b[0mshape\u001b[0m\u001b[1;33m\u001b[0m\u001b[0m\n\u001b[0;32m      5\u001b[0m \u001b[1;33m\u001b[0m\u001b[0m\n",
      "\u001b[1;32m<ipython-input-8-2dcd90ff03b2>\u001b[0m in \u001b[0;36mmunge\u001b[1;34m()\u001b[0m\n\u001b[0;32m     11\u001b[0m     \u001b[0mlist_df_metadata\u001b[0m \u001b[1;33m=\u001b[0m \u001b[1;33m[\u001b[0m\u001b[1;33m]\u001b[0m\u001b[1;33m\u001b[0m\u001b[0m\n\u001b[0;32m     12\u001b[0m \u001b[1;33m\u001b[0m\u001b[0m\n\u001b[1;32m---> 13\u001b[1;33m     \u001b[1;32mfor\u001b[0m \u001b[0mfile\u001b[0m \u001b[1;32min\u001b[0m \u001b[0mglob\u001b[0m\u001b[1;33m.\u001b[0m\u001b[0mglob\u001b[0m\u001b[1;33m(\u001b[0m\u001b[0mINPUT_FOLDER\u001b[0m \u001b[1;33m+\u001b[0m \u001b[1;34m\"*_metadata.csv\"\u001b[0m\u001b[1;33m)\u001b[0m\u001b[1;33m:\u001b[0m\u001b[1;33m\u001b[0m\u001b[0m\n\u001b[0m\u001b[0;32m     14\u001b[0m         \u001b[0mdf_metadata\u001b[0m \u001b[1;33m=\u001b[0m \u001b[0mpd\u001b[0m\u001b[1;33m.\u001b[0m\u001b[0mread_csv\u001b[0m\u001b[1;33m(\u001b[0m\u001b[0mfile\u001b[0m\u001b[1;33m,\u001b[0m \u001b[0mindex_col\u001b[0m\u001b[1;33m=\u001b[0m\u001b[1;36m0\u001b[0m\u001b[1;33m)\u001b[0m\u001b[1;33m\u001b[0m\u001b[0m\n\u001b[0;32m     15\u001b[0m         \u001b[0mlist_df_metadata\u001b[0m\u001b[1;33m.\u001b[0m\u001b[0mappend\u001b[0m\u001b[1;33m(\u001b[0m\u001b[0mdf_metadata\u001b[0m\u001b[1;33m)\u001b[0m\u001b[1;33m\u001b[0m\u001b[0m\n",
      "\u001b[1;31mNameError\u001b[0m: name 'glob' is not defined"
     ],
     "output_type": "error"
    }
   ],
   "source": [
    "print('----Munge the data----')\n",
    "X, y = munge()\n",
    "X,y = remove_outliers(X,y)\n",
    "N,D = y.shape\n",
    "\n",
    "#PCA\n",
    "print('----Start PCA----')\n",
    "X_red,y_red = PCA(X,y)\n",
    "plt.figure()\n",
    "y_color,y_s = some_cluster(y_red, colors)\n",
    "plt.scatter(X_red[:, 0], X_red[:, 1],c = y_color,s=y_s ,marker='o', linewidths=0)\n",
    "plt.title(title)\n",
    "plt.savefig(IM_FOLDER+'pca.png')\n",
    "plt.show(block=True)\n",
    "# If the plot doesnt show after above line, then change the MATPLOTLIB settings for your interpreter\n",
    "\n",
    "plt.figure()\n",
    "f4, ax4 = plt.subplots(1, D)\n",
    "for d in range(D):\n",
    "    ax4[d].scatter(X_red[:, 0], X_red[:, 1],c =y_red[:,d] ,marker='*', linewidths=0)\n",
    "    ax4[d].set_title('Mode%3i'%d)\n",
    "plt.setp([a.get_xticklabels() for a in ax4], visible=False)\n",
    "plt.setp([a.get_yticklabels() for a in ax4], visible=False)\n",
    "plt.savefig(IM_FOLDER+'pca_table.png')"
   ]
  },
  {
   "cell_type": "code",
   "execution_count": 6,
   "metadata": {
    "collapsed": false,
    "deletable": true,
    "editable": true
   },
   "outputs": [
    {
     "name": "stdout",
     "output_type": "stream",
     "text": [
      "----Start tSNE----\n----------tSNE on perplexity 300----------\n"
     ]
    },
    {
     "ename": "NameError",
     "evalue": "name 'X' is not defined",
     "traceback": [
      "\u001b[1;31m---------------------------------------------------------------------------\u001b[0m",
      "\u001b[1;31mNameError\u001b[0m                                 Traceback (most recent call last)",
      "\u001b[1;32m<ipython-input-6-0a952396fa51>\u001b[0m in \u001b[0;36m<module>\u001b[1;34m()\u001b[0m\n\u001b[0;32m      3\u001b[0m \u001b[1;32mfor\u001b[0m \u001b[0mper\u001b[0m \u001b[1;32min\u001b[0m \u001b[1;33m[\u001b[0m\u001b[1;36m300\u001b[0m\u001b[1;33m,\u001b[0m\u001b[1;36m400\u001b[0m\u001b[1;33m,\u001b[0m\u001b[1;36m500\u001b[0m\u001b[1;33m]\u001b[0m\u001b[1;33m:\u001b[0m\u001b[1;33m\u001b[0m\u001b[0m\n\u001b[0;32m      4\u001b[0m     \u001b[0mprint\u001b[0m\u001b[1;33m(\u001b[0m\u001b[1;34m'-'\u001b[0m\u001b[1;33m*\u001b[0m\u001b[1;36m10\u001b[0m\u001b[1;33m+\u001b[0m\u001b[1;34m'tSNE on perplexity %i'\u001b[0m\u001b[1;33m%\u001b[0m\u001b[0mper\u001b[0m \u001b[1;33m+\u001b[0m \u001b[1;34m'-'\u001b[0m\u001b[1;33m*\u001b[0m\u001b[1;36m10\u001b[0m\u001b[1;33m)\u001b[0m\u001b[1;33m\u001b[0m\u001b[0m\n\u001b[1;32m----> 5\u001b[1;33m     \u001b[0mX_red\u001b[0m\u001b[1;33m,\u001b[0m \u001b[0my_red\u001b[0m \u001b[1;33m=\u001b[0m \u001b[0mtSNE\u001b[0m\u001b[1;33m(\u001b[0m\u001b[0mX\u001b[0m\u001b[1;33m,\u001b[0m \u001b[0my\u001b[0m\u001b[1;33m,\u001b[0m \u001b[0mper\u001b[0m\u001b[1;33m)\u001b[0m\u001b[1;33m\u001b[0m\u001b[0m\n\u001b[0m\u001b[0;32m      6\u001b[0m     \u001b[0mplt\u001b[0m\u001b[1;33m.\u001b[0m\u001b[0mfigure\u001b[0m\u001b[1;33m(\u001b[0m\u001b[1;33m)\u001b[0m\u001b[1;33m\u001b[0m\u001b[0m\n\u001b[0;32m      7\u001b[0m     \u001b[0my_color\u001b[0m\u001b[1;33m,\u001b[0m \u001b[0my_s\u001b[0m \u001b[1;33m=\u001b[0m \u001b[0msome_cluster\u001b[0m\u001b[1;33m(\u001b[0m\u001b[0my_red\u001b[0m\u001b[1;33m,\u001b[0m \u001b[0mcolors\u001b[0m\u001b[1;33m)\u001b[0m\u001b[1;33m\u001b[0m\u001b[0m\n",
      "\u001b[1;31mNameError\u001b[0m: name 'X' is not defined"
     ],
     "output_type": "error"
    }
   ],
   "source": [
    "#tSNE\n",
    "print('----Start tSNE----')\n",
    "for per in [300,400,500]:\n",
    "    print('-'*10+'tSNE on perplexity %i'%per + '-'*10)\n",
    "    X_red, y_red = tSNE(X, y, per)\n",
    "    plt.figure()\n",
    "    y_color, y_s = some_cluster(y_red, colors)\n",
    "    #color\n",
    "    plt.scatter(X_red[:, 0], X_red[:, 1], c=y_color, s=y_s, marker='o',\n",
    "                linewidths=0)\n",
    "    plt.title(title)\n",
    "    plt.savefig(IM_FOLDER+'tSNE%i.png' % per)\n",
    "    #black-white\n",
    "    plt.scatter(X_red[:, 0], X_red[:, 1], c='k', s=y_s, marker='o',\n",
    "                linewidths=0)\n",
    "    plt.title(title)\n",
    "    plt.savefig(IM_FOLDER+'tSNE_bw%i.png'%per)\n",
    "    #\n",
    "    plt.figure()\n",
    "    f3, ax3 = plt.subplots(1, D)\n",
    "    for d in range(D):\n",
    "        ax3[d].scatter(X_red[:, 0], X_red[:, 1],c =y_red[:,d] ,marker='*', linewidths=0)\n",
    "        ax3[d].set_title('Mode%3i'%d)\n",
    "    plt.setp([a.get_xticklabels() for a in ax3], visible=False)\n",
    "    plt.setp([a.get_yticklabels() for a in ax3], visible=False)\n",
    "    plt.savefig(IM_FOLDER+'tsne_table.png')"
   ]
  },
  {
   "cell_type": "code",
   "execution_count": 7,
   "metadata": {
    "collapsed": true,
    "deletable": true,
    "editable": true
   },
   "outputs": [],
   "source": [
    ""
   ]
  },
  {
   "cell_type": "code",
   "execution_count": null,
   "metadata": {},
   "outputs": [],
   "source": []
  }
 ],
 "metadata": {
  "kernelspec": {
   "display_name": "Python 3",
   "language": "python",
   "name": "python3"
  },
  "language_info": {
   "codemirror_mode": {
    "name": "ipython",
    "version": 3
   },
   "file_extension": ".py",
   "mimetype": "text/x-python",
   "name": "python",
   "nbconvert_exporter": "python",
   "pygments_lexer": "ipython3",
   "version": "3.5.2"
  }
 },
 "nbformat": 4,
 "nbformat_minor": 0
}
