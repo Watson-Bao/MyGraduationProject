{
 "cells": [
  {
   "cell_type": "code",
   "execution_count": 1,
   "metadata": {
    "collapsed": true
   },
   "outputs": [],
   "source": [
    "import glob\n",
    "import pandas as pd\n",
    "import numpy as np\n",
    "import time\n",
    "from IPython.display import display, HTML\n",
    "\n",
    "from sklearn.linear_model import LogisticRegression\n",
    "from sklearn.svm import SVC\n",
    "from sklearn.ensemble import RandomForestClassifier\n"
   ]
  },
  {
   "cell_type": "markdown",
   "metadata": {},
   "source": [
    "In the previous notebook we have extracted relevant features from the GPS trajectories and in this notebook we will try to classify the modality of the trajectories with these features. \n",
    "\n",
    "Since the processing can take up a few hours depending on the computational power, the processed data is provided for you. \n",
    "\n",
    "It can be downloaded from google drive; https://drive.google.com/open?id=0B22kg5oTwAn-Q0xOVDhRMVNhMDQ\n",
    "and it is also passed around in memory sticks. "
   ]
  },
  {
   "cell_type": "code",
   "execution_count": 2,
   "metadata": {
    "collapsed": true,
    "scrolled": false
   },
   "outputs": [
    {
     "name": "stderr",
     "output_type": "stream",
     "text": [
      "C:\\Users\\taspinara\\AppData\\Local\\Continuum\\Anaconda3\\lib\\site-packages\\pandas\\core\\indexing.py:477: SettingWithCopyWarning: \n",
      "A value is trying to be set on a copy of a slice from a DataFrame.\n",
      "Try using .loc[row_indexer,col_indexer] = value instead\n",
      "\n",
      "See the caveats in the documentation: http://pandas.pydata.org/pandas-docs/stable/indexing.html#indexing-view-versus-copy\n",
      "  self.obj[item] = s\n"
     ]
    }
   ],
   "source": [
    "#The column containing the labels is not exactly in the clean format we want to have it in. \n",
    "#Some labels have commas at the begin, end and double commas in the middle, \n",
    "#so lets make a function which cleans these labels.\n",
    "def clean_label(label):\n",
    "    return label.lstrip(',').rstrip(',').replace(',,', ',')\n",
    "\n",
    "INPUT_FOLDER = '../processed_data/'\n",
    "headers_metadf = ['trajectory_id', 'start_time', 'end_time', 'v_ave', 'v_med', 'v_max', 'v_std', 'a_ave', 'a_med', 'a_max', 'a_std', 'labels']\n",
    "\n",
    "#Lets load all of the processed data, containing the features of all trajectories into one single dataframe. \n",
    "#The easiest way to do this is to load all of the into a list and concatenate them.\n",
    "list_df_metadata = []\n",
    "for file in glob.glob(INPUT_FOLDER + \"*_metadata.csv\"):\n",
    "    df_metadata = pd.read_csv(file, index_col=0)\n",
    "    list_df_metadata.append(df_metadata)\n",
    "df_metadata = pd.concat(list_df_metadata)\n",
    "\n",
    "#Remove all rows, which contain NaN values in these columns:\n",
    "df_labeled = df_metadata.dropna(subset=['v_ave','v_med','v_max', 'v_std', 'a_ave', 'a_med', 'a_max', 'a_std', 'labels'])\n",
    "\n",
    "#Clean the labels-column\n",
    "df_labeled.loc[:,'labels'] = df_labeled['labels'].apply(lambda x: clean_label(x))"
   ]
  },
  {
   "cell_type": "markdown",
   "metadata": {},
   "source": [
    "Lets analyze the trajectories:\n",
    "\n",
    "Most of the trajectories are not labeled. \n",
    "\n",
    "Of the labeled trajectories around 60% contains a single modality. The other trajectories are multi-modal [walk -> bus -> train, etc] and for now we will not take them into consideration. "
   ]
  },
  {
   "cell_type": "code",
   "execution_count": 4,
   "metadata": {
    "collapsed": true
   },
   "outputs": [
    {
     "name": "stdout",
     "output_type": "stream",
     "text": [
      "Example of trajectory labels:\n",
      "train\n",
      "taxi,train,walk\n",
      "walk,taxi,bus\n",
      "train,walk,taxi\n",
      "train,walk,bus\n",
      "\n",
      "Total number of trajectories: 18670\n",
      "Total number of labeled trajectories: 4468\n",
      "Total number of single modality trajectories: 2812\n"
     ]
    }
   ],
   "source": [
    "all_labels = df_labeled['labels'].unique()\n",
    "print(\"Example of trajectory labels:\")\n",
    "for label in all_labels[0:5]:\n",
    "    print(label)\n",
    "\n",
    "#We can filter out single modal trajectories by taking the labels which do not contain a comma:\n",
    "single_modality_labels = [elem for elem in all_labels if ',' not in elem]\n",
    "\n",
    "df_single_modality = df_labeled[df_labeled['labels'].isin(single_modality_labels)]\n",
    "\n",
    "print(\"\\nTotal number of trajectories: {}\".format(len(df_metadata)))\n",
    "print(\"Total number of labeled trajectories: {}\".format(len(df_labeled)))\n",
    "print(\"Total number of single modality trajectories: {}\".format(len(df_single_modality)))"
   ]
  },
  {
   "cell_type": "markdown",
   "metadata": {},
   "source": [
    "Lets split the trajectories containing a single modality, into a 70% training set and a 30% test set."
   ]
  },
  {
   "cell_type": "code",
   "execution_count": 5,
   "metadata": {
    "collapsed": false
   },
   "outputs": [
    {
     "name": "stdout",
     "output_type": "stream",
     "text": [
      "1963\n"
     ]
    }
   ],
   "source": [
    "mask = np.random.rand(len(df_single_modality)) < 0.7\n",
    "df_train = df_single_modality[mask]\n",
    "df_test = df_single_modality[~mask]\n",
    "\n",
    "print(len(df_train))"
   ]
  },
  {
   "cell_type": "markdown",
   "metadata": {},
   "source": [
    "The matrices containing the X and Y values of the training set (X_train, Y_train) will be used to train a classifier with. And the matrices X_test and Y_test can be used to test the accuracy of the trained classifier.\n",
    "\n",
    "Usually a dataset is split randomly into a 70% training set and a 30% test set, but this also depends on the size of the dataset. If the dataset is small, 30% could not be enough for properly testing your trained classifier. \n",
    "\n",
    "You could also split it into a 50% / 25% / 25% training set / test set / validation set.\n",
    "See: https://en.wikipedia.org/wiki/Test_set"
   ]
  },
  {
   "cell_type": "code",
   "execution_count": 6,
   "metadata": {
    "collapsed": false
   },
   "outputs": [],
   "source": [
    "#The columns \n",
    "X_colnames = ['v_ave','v_med','v_max', 'v_std', 'a_ave', 'a_med', 'a_max', 'a_std']\n",
    "Y_colnames = ['labels']\n",
    "\n",
    "X_train = df_train[X_colnames].values\n",
    "Y_train = np.ravel(df_train[Y_colnames].values)\n",
    "X_test = df_test[X_colnames].values\n",
    "Y_test = np.ravel(df_test[Y_colnames].values)"
   ]
  },
  {
   "cell_type": "markdown",
   "metadata": {},
   "source": [
    "Now that we have all of data ready and in the format we want to have it in, lets start with the classification part. \n",
    "\n",
    "For classification of the single modal trajectories, we will use three classifiers in the scikit-learn library. \n",
    "\n",
    "## 1. Random Forest\n",
    "http://scikit-learn.org/stable/modules/generated/sklearn.ensemble.RandomForestClassifier.html\n",
    "\n",
    "\n",
    "## 2. Logistic Regression\n",
    "http://scikit-learn.org/stable/modules/generated/sklearn.linear_model.LogisticRegression.html\n",
    "\n",
    "http://ataspinar.com/2016/03/28/regression-logistic-regression-and-maximum-entropy/\n",
    "\n",
    "\n",
    "## 3. Support Vector Machines.\n",
    "http://scikit-learn.org/stable/modules/svm.html\n",
    "\n",
    "https://youtu.be/3liCbRZPrZA\n",
    "\n",
    "\n",
    "### Also see:\n",
    "\n",
    "http://www.r2d3.us/visual-intro-to-machine-learning-part-1/\n",
    "\n",
    "http://ciml.info/\n"
   ]
  },
  {
   "cell_type": "code",
   "execution_count": 7,
   "metadata": {
    "collapsed": false
   },
   "outputs": [],
   "source": [
    "rf_classifier = RandomForestClassifier(n_estimators = 18)\n",
    "logreg_classifier = LogisticRegression()\n",
    "svm_classifier = SVC()\n"
   ]
  },
  {
   "cell_type": "code",
   "execution_count": 8,
   "metadata": {
    "collapsed": false
   },
   "outputs": [
    {
     "name": "stdout",
     "output_type": "stream",
     "text": [
      "trained Random Forest in 0.50 s.\t Score on training / test set: 0.9959246051961284 / 0.751472320376914\n",
      "trained Logistic Regression in 0.47 s.\t Score on training / test set: 0.6658176260825267 / 0.6383981154299175\n",
      "trained SVM Classifier in 1.87 s.\t Score on training / test set: 0.8751910341314315 / 0.696113074204947\n"
     ]
    }
   ],
   "source": [
    "#Random Forest\n",
    "t_start = time.clock()\n",
    "rf_classifier.fit(X_train, Y_train)\n",
    "t_end = time.clock()\n",
    "t_diff = t_end - t_start\n",
    "\n",
    "train_score = rf_classifier.score(X_train, Y_train)\n",
    "test_score = rf_classifier.score(X_test, Y_test)\n",
    "y_pred_rf= rf_classifier.predict(X_test)\n",
    "print(\"trained Random Forest in {:.2f} s.\\t Score on training / test set: {} / {}\".format(t_diff, train_score, test_score))\n",
    "\n",
    "#Logistic Regression\n",
    "t_start = time.clock()\n",
    "logreg_classifier.fit(X_train, Y_train)\n",
    "t_end = time.clock()\n",
    "t_diff = t_end - t_start\n",
    "\n",
    "train_score = logreg_classifier.score(X_train, Y_train)\n",
    "test_score = logreg_classifier.score(X_test, Y_test)\n",
    "y_pred_logreg = logreg_classifier.predict(X_test)\n",
    "print(\"trained Logistic Regression in {:.2f} s.\\t Score on training / test set: {} / {}\".format(t_diff, train_score, test_score))\n",
    "\n",
    "#Linear SVM\n",
    "t_start = time.clock()\n",
    "svm_classifier.fit(X_train, Y_train)\n",
    "t_end = time.clock()\n",
    "t_diff = t_end - t_start\n",
    "\n",
    "train_score = svm_classifier.score(X_train, Y_train)\n",
    "test_score = svm_classifier.score(X_test, Y_test)\n",
    "y_pred_svm = svm_classifier.predict(X_test)\n",
    "print(\"trained SVM Classifier in {:.2f} s.\\t Score on training / test set: {} / {}\".format(t_diff, train_score, test_score))\n"
   ]
  },
  {
   "cell_type": "markdown",
   "metadata": {},
   "source": [
    "## Improving the accuracy of RF classifier\n",
    "The most accurate classifier is the Random Forest classifier, with an accuracy of 78 % on the test set. \n",
    "Although this is already quiet high, lets see how we can improve it even more. \n",
    "\n",
    "To be able to do this, first we need to understand what this average accuracy of 78% consists of.\n",
    "\n",
    "In the cell below:\n",
    "\n",
    "- print the number of entries of each modality in the dataset.\n",
    "- print the f1-score per class within the test set. \n",
    "\n",
    "hint: the metrics module of the scikit-learn library contains a lot of methods which can be used to evaluate the performance of your classifier:\n",
    "http://scikit-learn.org/stable/modules/classes.html#module-sklearn.metrics"
   ]
  },
  {
   "cell_type": "code",
   "execution_count": 105,
   "metadata": {
    "collapsed": false
   },
   "outputs": [
    {
     "name": "stdout",
     "output_type": "stream",
     "text": [
      "Counter({'walk': 783, 'bike': 767, 'car': 593, 'bus': 377, 'subway': 174, 'taxi': 81, 'train': 28, 'airplane': 6, 'boat': 2, 'run': 1})\n",
      "             precision    recall  f1-score   support\n",
      "\n",
      "       bike       0.89      0.87      0.88       242\n",
      "       boat       0.00      0.00      0.00         1\n",
      "        bus       0.60      0.63      0.61       115\n",
      "        car       0.83      0.84      0.84       193\n",
      "        run       0.00      0.00      0.00         1\n",
      "     subway       0.74      0.64      0.68        44\n",
      "       taxi       0.50      0.03      0.06        31\n",
      "      train       0.67      0.60      0.63        10\n",
      "       walk       0.72      0.85      0.78       184\n",
      "\n",
      "avg / total       0.77      0.78      0.76       821\n",
      "\n"
     ]
    },
    {
     "name": "stderr",
     "output_type": "stream",
     "text": [
      "C:\\Users\\taspinara\\AppData\\Local\\Continuum\\Anaconda3\\lib\\site-packages\\sklearn\\metrics\\classification.py:1113: UndefinedMetricWarning: Precision and F-score are ill-defined and being set to 0.0 in labels with no predicted samples.\n",
      "  'precision', 'predicted', average, warn_for)\n"
     ]
    }
   ],
   "source": [
    "from collections import Counter\n",
    "print(Counter(df_single_modality['labels'].values))\n",
    "from sklearn.metrics import classification_report\n",
    "print(classification_report(Y_test, y_pred_rf))"
   ]
  },
  {
   "cell_type": "markdown",
   "metadata": {},
   "source": [
    "If there are not enough entries of a specific class in the dataset, the classifier will difficulties of finding a general rule which can correctly model it. This will lower the overall accuracy of the classifier, so lets remove all of the modalities which have less than 10 entries in 'df_single_modality'. "
   ]
  },
  {
   "cell_type": "code",
   "execution_count": 30,
   "metadata": {
    "collapsed": false
   },
   "outputs": [],
   "source": [
    "#remove all of the labels which have less than 10 entries.\n",
    "single_modality_labels.remove('run')\n",
    "single_modality_labels.remove('boat')\n",
    "single_modality_labels.remove('airplane')\n",
    "single_modality_labels.remove('train')\n"
   ]
  },
  {
   "cell_type": "markdown",
   "metadata": {},
   "source": [
    "You might also have seen that there are entries which are labeled as a different modality, although the behaviour will be approximately the same (for example car vs taxi). Incorrectly classifying these entries will also lower the accuracy of the classifier. Which of the existing labels in df_single_modality can be combined into one label?"
   ]
  },
  {
   "cell_type": "code",
   "execution_count": 31,
   "metadata": {
    "collapsed": false
   },
   "outputs": [
    {
     "name": "stderr",
     "output_type": "stream",
     "text": [
      "C:\\Users\\taspinara\\AppData\\Local\\Continuum\\Anaconda3\\lib\\site-packages\\ipykernel\\__main__.py:4: SettingWithCopyWarning: \n",
      "A value is trying to be set on a copy of a slice from a DataFrame.\n",
      "Try using .loc[row_indexer,col_indexer] = value instead\n",
      "\n",
      "See the caveats in the documentation: http://pandas.pydata.org/pandas-docs/stable/indexing.html#indexing-view-versus-copy\n"
     ]
    }
   ],
   "source": [
    "#combine classes which will have the same driving behaviour into a new single label.\n",
    "df_single_modality = df_labeled[df_labeled['labels'].isin(single_modality_labels)]\n",
    "to_general_label = {'airplane': 'airplane', 'bike': 'bike', 'subway': 'subway', 'train': 'train', 'run': 'run', 'walk': 'walk', 'boat': 'boat', 'bus': 'vehicle', 'car': 'vehicle', 'taxi': 'vehicle'}\n",
    "df_single_modality['labels'] = df_single_modality['labels'].apply(lambda x: to_general_label[x])\n"
   ]
  },
  {
   "cell_type": "markdown",
   "metadata": {},
   "source": [
    "With the new and improved df_single_modality:\n",
    "- generate training and test sets\n",
    "- train the three classifiers and determine if the accuracy has improved "
   ]
  },
  {
   "cell_type": "code",
   "execution_count": 34,
   "metadata": {
    "collapsed": false
   },
   "outputs": [],
   "source": [
    "mask = np.random.rand(len(df_single_modality)) < 0.7\n",
    "df_train = df_single_modality[mask]\n",
    "df_test = df_single_modality[~mask]\n",
    "X_train = df_train[X_colnames].values\n",
    "Y_train = np.ravel(df_train[Y_colnames].values)\n",
    "X_test = df_test[X_colnames].values\n",
    "Y_test = np.ravel(df_test[Y_colnames].values)"
   ]
  },
  {
   "cell_type": "code",
   "execution_count": 35,
   "metadata": {
    "collapsed": false
   },
   "outputs": [
    {
     "name": "stdout",
     "output_type": "stream",
     "text": [
      "trained Random Forest in 2.09 s.\t Score on training / test set: 1.0 / 0.8459530026109661\n",
      "trained Logistic Regression in 0.09 s.\t Score on training / test set: 0.7645594823295172 / 0.7637075718015666\n",
      "trained SVM Classifier in 1.35 s.\t Score on training / test set: 0.9208561473369836 / 0.758485639686684\n"
     ]
    }
   ],
   "source": [
    "rf_classifier = RandomForestClassifier(n_estimators = 100)\n",
    "logreg_classifier = LogisticRegression()\n",
    "svm_classifier = SVC(kernel='rbf')\n",
    "\n",
    "\n",
    "#Random Forest\n",
    "t_start = time.clock()\n",
    "rf_classifier.fit(X_train, Y_train)\n",
    "t_end = time.clock()\n",
    "t_diff = t_end - t_start\n",
    "\n",
    "train_score = rf_classifier.score(X_train, Y_train)\n",
    "test_score = rf_classifier.score(X_test, Y_test)\n",
    "y_pred_rf= rf_classifier.predict(X_test)\n",
    "print(\"trained Random Forest in {:.2f} s.\\t Score on training / test set: {} / {}\".format(t_diff, train_score, test_score))\n",
    "\n",
    "#Logistic Regression\n",
    "t_start = time.clock()\n",
    "logreg_classifier.fit(X_train, Y_train)\n",
    "t_end = time.clock()\n",
    "t_diff = t_end - t_start\n",
    "\n",
    "train_score = logreg_classifier.score(X_train, Y_train)\n",
    "test_score = logreg_classifier.score(X_test, Y_test)\n",
    "y_pred_logreg = logreg_classifier.predict(X_test)\n",
    "print(\"trained Logistic Regression in {:.2f} s.\\t Score on training / test set: {} / {}\".format(t_diff, train_score, test_score))\n",
    "\n",
    "#Linear SVM\n",
    "t_start = time.clock()\n",
    "svm_classifier.fit(X_train, Y_train)\n",
    "t_end = time.clock()\n",
    "t_diff = t_end - t_start\n",
    "\n",
    "train_score = svm_classifier.score(X_train, Y_train)\n",
    "test_score = svm_classifier.score(X_test, Y_test)\n",
    "y_pred_svm = svm_classifier.predict(X_test)\n",
    "print(\"trained SVM Classifier in {:.2f} s.\\t Score on training / test set: {} / {}\".format(t_diff, train_score, test_score))\n"
   ]
  },
  {
   "cell_type": "code",
   "execution_count": 109,
   "metadata": {
    "collapsed": false
   },
   "outputs": [
    {
     "name": "stdout",
     "output_type": "stream",
     "text": [
      "Counter({'vehicle': 1051, 'walk': 783, 'bike': 767, 'subway': 174})\n",
      "             precision    recall  f1-score   support\n",
      "\n",
      "       bike       0.86      0.90      0.88       215\n",
      "     subway       0.84      0.80      0.82        40\n",
      "    vehicle       0.91      0.88      0.90       295\n",
      "       walk       0.85      0.85      0.85       227\n",
      "\n",
      "avg / total       0.87      0.87      0.87       777\n",
      "\n"
     ]
    }
   ],
   "source": [
    "from collections import Counter\n",
    "print(Counter(df_single_modality['labels'].values))\n",
    "from sklearn.metrics import classification_report\n",
    "print(classification_report(Y_test, y_pred_rf))"
   ]
  },
  {
   "cell_type": "code",
   "execution_count": 11,
   "metadata": {
    "collapsed": false
   },
   "outputs": [
    {
     "data": {
      "text/html": [
       "<div>\n",
       "<table border=\"1\" class=\"dataframe\">\n",
       "  <thead>\n",
       "    <tr style=\"text-align: right;\">\n",
       "      <th></th>\n",
       "      <th>v_ave</th>\n",
       "      <th>v_med</th>\n",
       "      <th>v_max</th>\n",
       "      <th>v_std</th>\n",
       "      <th>a_ave</th>\n",
       "      <th>a_med</th>\n",
       "      <th>a_max</th>\n",
       "      <th>a_std</th>\n",
       "      <th>labels</th>\n",
       "    </tr>\n",
       "  </thead>\n",
       "  <tbody>\n",
       "    <tr>\n",
       "      <th>39</th>\n",
       "      <td>15.275466</td>\n",
       "      <td>14.301759</td>\n",
       "      <td>31.935449</td>\n",
       "      <td>12.821467</td>\n",
       "      <td>0.020477</td>\n",
       "      <td>0.000075</td>\n",
       "      <td>1.258774</td>\n",
       "      <td>0.160644</td>\n",
       "      <td>train</td>\n",
       "    </tr>\n",
       "    <tr>\n",
       "      <th>40</th>\n",
       "      <td>19.932307</td>\n",
       "      <td>22.790947</td>\n",
       "      <td>32.975178</td>\n",
       "      <td>11.165594</td>\n",
       "      <td>0.019810</td>\n",
       "      <td>0.000021</td>\n",
       "      <td>2.972773</td>\n",
       "      <td>0.185248</td>\n",
       "      <td>train</td>\n",
       "    </tr>\n",
       "    <tr>\n",
       "      <th>41</th>\n",
       "      <td>20.379730</td>\n",
       "      <td>23.850801</td>\n",
       "      <td>31.386341</td>\n",
       "      <td>10.669280</td>\n",
       "      <td>0.010026</td>\n",
       "      <td>0.000000</td>\n",
       "      <td>0.589401</td>\n",
       "      <td>0.128093</td>\n",
       "      <td>train</td>\n",
       "    </tr>\n",
       "    <tr>\n",
       "      <th>42</th>\n",
       "      <td>18.537198</td>\n",
       "      <td>20.902208</td>\n",
       "      <td>66.636194</td>\n",
       "      <td>10.340335</td>\n",
       "      <td>0.005846</td>\n",
       "      <td>0.000000</td>\n",
       "      <td>1.274032</td>\n",
       "      <td>0.093342</td>\n",
       "      <td>train</td>\n",
       "    </tr>\n",
       "    <tr>\n",
       "      <th>43</th>\n",
       "      <td>16.443388</td>\n",
       "      <td>18.371057</td>\n",
       "      <td>36.472396</td>\n",
       "      <td>9.709017</td>\n",
       "      <td>0.009662</td>\n",
       "      <td>0.000000</td>\n",
       "      <td>9.688343</td>\n",
       "      <td>0.356456</td>\n",
       "      <td>train</td>\n",
       "    </tr>\n",
       "  </tbody>\n",
       "</table>\n",
       "</div>"
      ],
      "text/plain": [
       "        v_ave      v_med      v_max      v_std     a_ave     a_med     a_max  \\\n",
       "39  15.275466  14.301759  31.935449  12.821467  0.020477  0.000075  1.258774   \n",
       "40  19.932307  22.790947  32.975178  11.165594  0.019810  0.000021  2.972773   \n",
       "41  20.379730  23.850801  31.386341  10.669280  0.010026  0.000000  0.589401   \n",
       "42  18.537198  20.902208  66.636194  10.340335  0.005846  0.000000  1.274032   \n",
       "43  16.443388  18.371057  36.472396   9.709017  0.009662  0.000000  9.688343   \n",
       "\n",
       "       a_std labels  \n",
       "39  0.160644  train  \n",
       "40  0.185248  train  \n",
       "41  0.128093  train  \n",
       "42  0.093342  train  \n",
       "43  0.356456  train  "
      ]
     },
     "metadata": {},
     "output_type": "execute_result"
    }
   ],
   "source": [
    "import seaborn as sns\n",
    "import matplotlib.pyplot as plt\n",
    "\n",
    "from sklearn.decomposition import PCA\n",
    "from sklearn.preprocessing import StandardScaler\n",
    "from sklearn import preprocessing\n",
    "\n",
    "del df_single_modality['trajectory_id']\n",
    "del df_single_modality['start_time']\n",
    "del df_single_modality['end_time']\n",
    "display(df_single_modality.head())\n"
   ]
  },
  {
   "cell_type": "code",
   "execution_count": 12,
   "metadata": {
    "collapsed": false
   },
   "outputs": [
    {
     "name": "stderr",
     "output_type": "stream",
     "text": [
      "C:\\Users\\taspinara\\AppData\\Local\\Continuum\\Anaconda3\\lib\\site-packages\\ipykernel\\__main__.py:8: SettingWithCopyWarning: \n",
      "A value is trying to be set on a copy of a slice from a DataFrame.\n",
      "Try using .loc[row_indexer,col_indexer] = value instead\n",
      "\n",
      "See the caveats in the documentation: http://pandas.pydata.org/pandas-docs/stable/indexing.html#indexing-view-versus-copy\n"
     ]
    },
    {
     "data": {
      "text/html": [
       "<div>\n",
       "<table border=\"1\" class=\"dataframe\">\n",
       "  <thead>\n",
       "    <tr style=\"text-align: right;\">\n",
       "      <th></th>\n",
       "      <th>v_ave</th>\n",
       "      <th>v_med</th>\n",
       "      <th>v_max</th>\n",
       "      <th>v_std</th>\n",
       "      <th>a_ave</th>\n",
       "      <th>a_med</th>\n",
       "      <th>a_max</th>\n",
       "      <th>a_std</th>\n",
       "      <th>labels</th>\n",
       "    </tr>\n",
       "  </thead>\n",
       "  <tbody>\n",
       "    <tr>\n",
       "      <th>39</th>\n",
       "      <td>15.275466</td>\n",
       "      <td>14.301759</td>\n",
       "      <td>31.935449</td>\n",
       "      <td>12.821467</td>\n",
       "      <td>0.020477</td>\n",
       "      <td>0.000075</td>\n",
       "      <td>1.258774</td>\n",
       "      <td>0.160644</td>\n",
       "      <td>8</td>\n",
       "    </tr>\n",
       "    <tr>\n",
       "      <th>40</th>\n",
       "      <td>19.932307</td>\n",
       "      <td>22.790947</td>\n",
       "      <td>32.975178</td>\n",
       "      <td>11.165594</td>\n",
       "      <td>0.019810</td>\n",
       "      <td>0.000021</td>\n",
       "      <td>2.972773</td>\n",
       "      <td>0.185248</td>\n",
       "      <td>8</td>\n",
       "    </tr>\n",
       "    <tr>\n",
       "      <th>41</th>\n",
       "      <td>20.379730</td>\n",
       "      <td>23.850801</td>\n",
       "      <td>31.386341</td>\n",
       "      <td>10.669280</td>\n",
       "      <td>0.010026</td>\n",
       "      <td>0.000000</td>\n",
       "      <td>0.589401</td>\n",
       "      <td>0.128093</td>\n",
       "      <td>8</td>\n",
       "    </tr>\n",
       "    <tr>\n",
       "      <th>42</th>\n",
       "      <td>18.537198</td>\n",
       "      <td>20.902208</td>\n",
       "      <td>66.636194</td>\n",
       "      <td>10.340335</td>\n",
       "      <td>0.005846</td>\n",
       "      <td>0.000000</td>\n",
       "      <td>1.274032</td>\n",
       "      <td>0.093342</td>\n",
       "      <td>8</td>\n",
       "    </tr>\n",
       "    <tr>\n",
       "      <th>43</th>\n",
       "      <td>16.443388</td>\n",
       "      <td>18.371057</td>\n",
       "      <td>36.472396</td>\n",
       "      <td>9.709017</td>\n",
       "      <td>0.009662</td>\n",
       "      <td>0.000000</td>\n",
       "      <td>9.688343</td>\n",
       "      <td>0.356456</td>\n",
       "      <td>8</td>\n",
       "    </tr>\n",
       "  </tbody>\n",
       "</table>\n",
       "</div>"
      ],
      "text/plain": [
       "        v_ave      v_med      v_max      v_std     a_ave     a_med     a_max  \\\n",
       "39  15.275466  14.301759  31.935449  12.821467  0.020477  0.000075  1.258774   \n",
       "40  19.932307  22.790947  32.975178  11.165594  0.019810  0.000021  2.972773   \n",
       "41  20.379730  23.850801  31.386341  10.669280  0.010026  0.000000  0.589401   \n",
       "42  18.537198  20.902208  66.636194  10.340335  0.005846  0.000000  1.274032   \n",
       "43  16.443388  18.371057  36.472396   9.709017  0.009662  0.000000  9.688343   \n",
       "\n",
       "       a_std  labels  \n",
       "39  0.160644       8  \n",
       "40  0.185248       8  \n",
       "41  0.128093       8  \n",
       "42  0.093342       8  \n",
       "43  0.356456       8  "
      ]
     },
     "metadata": {},
     "output_type": "execute_result"
    }
   ],
   "source": [
    "le = preprocessing.LabelEncoder()\n",
    "col_values_unique = list(df_single_modality['labels'].unique())\n",
    "le_fitted = le.fit(col_values_unique)\n",
    "\n",
    "col_values = list(df_single_modality['labels'].values)\n",
    "le.classes_\n",
    "col_values_transformed = le.transform(col_values)\n",
    "df_single_modality['labels'] = col_values_transformed\n",
    "display(df_single_modality.head())"
   ]
  },
  {
   "cell_type": "code",
   "execution_count": 13,
   "metadata": {
    "collapsed": false
   },
   "outputs": [
    {
     "data": {
      "image/png": "[encoded data removed]",
      "text/plain": [
       "<matplotlib.figure.Figure at 0xc946128>"
      ]
     },
     "metadata": {},
     "output_type": "display_data"
    }
   ],
   "source": [
    "correlation_matrix = df_single_modality.corr()\n",
    "plt.figure(figsize=(10,8))\n",
    "ax = sns.heatmap(correlation_matrix, vmax=1, square=True,annot=True,cmap='RdYlGn')\n",
    "plt.title('Correlation matrix between the features')\n",
    "plt.show()\n",
    "\n",
    "X = df_single_modality[X_colnames].values"
   ]
  },
  {
   "cell_type": "code",
   "execution_count": 27,
   "metadata": {
    "collapsed": false
   },
   "outputs": [
    {
     "name": "stdout",
     "output_type": "stream",
     "text": [
      "[  9.38373942e-01   4.29528355e-02   1.77607572e-02   6.34078435e-04\n",
      "   1.55935968e-04   7.54351114e-05   4.20783136e-05   4.93763031e-06]\n",
      "[ 0.01483446  0.16045426  0.13496178  0.16830595 -0.03705418 -0.20520712\n",
      " -0.03198465  0.08936893]\n"
     ]
    },
    {
     "data": {
      "image/png": "[encoded data removed]",
      "text/plain": [
       "<matplotlib.figure.Figure at 0x10703588>"
      ]
     },
     "metadata": {},
     "output_type": "display_data"
    }
   ],
   "source": [
    "X_std = StandardScaler().fit_transform(X)\n",
    "\n",
    "pca = PCA().fit(X)\n",
    "var_ratio = pca.explained_variance_ratio_\n",
    "components = pca.components_\n",
    "print(var_ratio)\n",
    "print(np.mean(pca.components_,axis=0)) \n",
    "plt.plot(np.cumsum(var_ratio))\n",
    "plt.xlim(0,9,1)\n",
    "plt.xlabel('Number of components')\n",
    "plt.ylabel('Cumulative explained variance')\n",
    "plt.show()"
   ]
  },
  {
   "cell_type": "code",
   "execution_count": null,
   "metadata": {
    "collapsed": true
   },
   "outputs": [],
   "source": []
  }
 ],
 "metadata": {
  "kernelspec": {
   "display_name": "Python 3",
   "language": "python",
   "name": "python3"
  },
  "language_info": {
   "codemirror_mode": {
    "name": "ipython",
    "version": 3
   },
   "file_extension": ".py",
   "mimetype": "text/x-python",
   "name": "python",
   "nbconvert_exporter": "python",
   "pygments_lexer": "ipython3",
   "version": "3.6.0"
  }
 },
 "nbformat": 4,
 "nbformat_minor": 2
}
